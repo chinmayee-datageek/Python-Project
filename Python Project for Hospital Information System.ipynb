{
 "cells": [
  {
   "cell_type": "code",
   "execution_count": 147,
   "metadata": {},
   "outputs": [
    {
     "name": "stdout",
     "output_type": "stream",
     "text": [
      "Connection successful.\n",
      "Database version: [('3.32.3',)]\n"
     ]
    }
   ],
   "source": [
    "import sqlite3\n",
    "import pandas as pd\n",
    "\n",
    "# Connection to database and sqlite version\n",
    "try:\n",
    "    sqliteconnect = sqlite3.connect('Hospitalinfo.db')\n",
    "    cursor = sqliteconnect.cursor()\n",
    "    print(\"Connection successful.\")\n",
    "    \n",
    "    sqlite_select_query = 'select sqlite_version();'\n",
    "    cursor.execute(sqlite_select_query)\n",
    "    record = cursor.fetchall()\n",
    "    print(\"Database version:\", record)\n",
    "\n",
    "except sqlite3.Error as error:\n",
    "    print(\"Error occurred while connecting to sqlite\", error)"
   ]
  },
  {
   "cell_type": "code",
   "execution_count": 140,
   "metadata": {},
   "outputs": [
    {
     "data": {
      "text/plain": [
       "[]"
      ]
     },
     "execution_count": 140,
     "metadata": {},
     "output_type": "execute_result"
    }
   ],
   "source": [
    "# Creation of Doctor table\n",
    "sqlite_create_table_query = '''CREATE TABLE \"Doctor\" (\n",
    "\t\"DocID\"\tINTEGER,\n",
    "\t\"DocName\"\tTEXT,\n",
    "\t\"HospitalID\"\tINTEGER,\n",
    "\t\"JoiningDate\"\tBLOB,\n",
    "\t\"Specialty\"\tTEXT,\n",
    "\t\"Exp\"\tTEXT,\n",
    "\t\"salary\"\treal,\n",
    "\tPRIMARY KEY(\"DocID\")\n",
    ");'''\n",
    "cursor.execute(sqlite_create_table_query)\n",
    "\n",
    "#Populating data into the Doctor table\n",
    "\n",
    "doc_data = [(101, 'David', 1, '2005-02-10', 'Pediatric', 40000),\n",
    "(102, 'Michael', 1, '2018-07-23', 'Oncologist', 20000),\n",
    "(103, 'Susan', 2, '2016-05-19', 'Garnacologist', 25000),\n",
    "(104, 'Robert', 2, '2017-12-28', 'Pediatric', 28000),\n",
    "(105, 'Linda', 3, '2004-06-04', 'Garnacologist', 42000),\n",
    "(106, 'William', 3, '2012-09-11', 'Dermatologist', 30000),\n",
    "(107, 'Richard', 4, '2014-08-21', 'Garnacologist', 32000),\n",
    "(108, 'Karen', 4, '2011-10-17', 'Radiologist', 30000)]\n",
    "\n",
    "cursor.executemany('''INSERT into Doctor \n",
    "(DocID, DocName, HospitalID, JoiningDate, Specialty, Exp, salary) \n",
    "VALUES (?, ?, ?, ?, ?, NULL, ?)''', doc_data)\n",
    "cursor.fetchall()"
   ]
  },
  {
   "cell_type": "code",
   "execution_count": 141,
   "metadata": {},
   "outputs": [
    {
     "data": {
      "text/html": [
       "<div>\n",
       "<style scoped>\n",
       "    .dataframe tbody tr th:only-of-type {\n",
       "        vertical-align: middle;\n",
       "    }\n",
       "\n",
       "    .dataframe tbody tr th {\n",
       "        vertical-align: top;\n",
       "    }\n",
       "\n",
       "    .dataframe thead th {\n",
       "        text-align: right;\n",
       "    }\n",
       "</style>\n",
       "<table border=\"1\" class=\"dataframe\">\n",
       "  <thead>\n",
       "    <tr style=\"text-align: right;\">\n",
       "      <th></th>\n",
       "      <th>DocID</th>\n",
       "      <th>DocName</th>\n",
       "      <th>HospitalID</th>\n",
       "      <th>JoiningDate</th>\n",
       "      <th>Specialty</th>\n",
       "      <th>Exp</th>\n",
       "      <th>salary</th>\n",
       "    </tr>\n",
       "  </thead>\n",
       "  <tbody>\n",
       "    <tr>\n",
       "      <th>0</th>\n",
       "      <td>101</td>\n",
       "      <td>David</td>\n",
       "      <td>1</td>\n",
       "      <td>2005-02-10</td>\n",
       "      <td>Pediatric</td>\n",
       "      <td>None</td>\n",
       "      <td>40000.0</td>\n",
       "    </tr>\n",
       "    <tr>\n",
       "      <th>1</th>\n",
       "      <td>102</td>\n",
       "      <td>Michael</td>\n",
       "      <td>1</td>\n",
       "      <td>2018-07-23</td>\n",
       "      <td>Oncologist</td>\n",
       "      <td>None</td>\n",
       "      <td>20000.0</td>\n",
       "    </tr>\n",
       "    <tr>\n",
       "      <th>2</th>\n",
       "      <td>103</td>\n",
       "      <td>Susan</td>\n",
       "      <td>2</td>\n",
       "      <td>2016-05-19</td>\n",
       "      <td>Garnacologist</td>\n",
       "      <td>None</td>\n",
       "      <td>25000.0</td>\n",
       "    </tr>\n",
       "    <tr>\n",
       "      <th>3</th>\n",
       "      <td>104</td>\n",
       "      <td>Robert</td>\n",
       "      <td>2</td>\n",
       "      <td>2017-12-28</td>\n",
       "      <td>Pediatric</td>\n",
       "      <td>None</td>\n",
       "      <td>28000.0</td>\n",
       "    </tr>\n",
       "    <tr>\n",
       "      <th>4</th>\n",
       "      <td>105</td>\n",
       "      <td>Linda</td>\n",
       "      <td>3</td>\n",
       "      <td>2004-06-04</td>\n",
       "      <td>Garnacologist</td>\n",
       "      <td>None</td>\n",
       "      <td>42000.0</td>\n",
       "    </tr>\n",
       "    <tr>\n",
       "      <th>5</th>\n",
       "      <td>106</td>\n",
       "      <td>William</td>\n",
       "      <td>3</td>\n",
       "      <td>2012-09-11</td>\n",
       "      <td>Dermatologist</td>\n",
       "      <td>None</td>\n",
       "      <td>30000.0</td>\n",
       "    </tr>\n",
       "    <tr>\n",
       "      <th>6</th>\n",
       "      <td>107</td>\n",
       "      <td>Richard</td>\n",
       "      <td>4</td>\n",
       "      <td>2014-08-21</td>\n",
       "      <td>Garnacologist</td>\n",
       "      <td>None</td>\n",
       "      <td>32000.0</td>\n",
       "    </tr>\n",
       "    <tr>\n",
       "      <th>7</th>\n",
       "      <td>108</td>\n",
       "      <td>Karen</td>\n",
       "      <td>4</td>\n",
       "      <td>2011-10-17</td>\n",
       "      <td>Radiologist</td>\n",
       "      <td>None</td>\n",
       "      <td>30000.0</td>\n",
       "    </tr>\n",
       "  </tbody>\n",
       "</table>\n",
       "</div>"
      ],
      "text/plain": [
       "   DocID  DocName  HospitalID JoiningDate      Specialty   Exp   salary\n",
       "0    101    David           1  2005-02-10      Pediatric  None  40000.0\n",
       "1    102  Michael           1  2018-07-23     Oncologist  None  20000.0\n",
       "2    103    Susan           2  2016-05-19  Garnacologist  None  25000.0\n",
       "3    104   Robert           2  2017-12-28      Pediatric  None  28000.0\n",
       "4    105    Linda           3  2004-06-04  Garnacologist  None  42000.0\n",
       "5    106  William           3  2012-09-11  Dermatologist  None  30000.0\n",
       "6    107  Richard           4  2014-08-21  Garnacologist  None  32000.0\n",
       "7    108    Karen           4  2011-10-17    Radiologist  None  30000.0"
      ]
     },
     "metadata": {},
     "output_type": "display_data"
    }
   ],
   "source": [
    "#Creating a dataframe from the SQL Doctor table\n",
    "\n",
    "cursor.execute('''SELECT * FROM Doctor;''')\n",
    "data = cursor.fetchall()\n",
    "doctor_t = pd.DataFrame(data)\n",
    "doctor_t.columns = [description[0] for description in cursor.description]\n",
    "display(doctor_t)"
   ]
  },
  {
   "cell_type": "code",
   "execution_count": 124,
   "metadata": {},
   "outputs": [
    {
     "data": {
      "text/plain": [
       "<sqlite3.Cursor at 0x19bb360b180>"
      ]
     },
     "execution_count": 124,
     "metadata": {},
     "output_type": "execute_result"
    }
   ],
   "source": [
    "# Creation of Hospital table\n",
    "cursor.execute('''CREATE TABLE \"Hospital\" (\n",
    "\t\"ID\"\tINTEGER,\n",
    "\t\"Name\"\tTEXT,\n",
    "\t\"BedCount\"\tINTEGER,\n",
    "\tPRIMARY KEY(\"ID\")\n",
    ");''')\n",
    "\n",
    "# Populating the Hospital table with data using executemany\n",
    "hosp_data = [(1, 'Mayo Clinic', 200),\n",
    "(2, 'Cleveland Clinic', 400),\n",
    "(3, 'John Hopkins', 1000),\n",
    "(4, 'UCLA Medical Center', 1500)]\n",
    "\n",
    "cursor.executemany('''INSERT into Hospital \n",
    "(ID, Name, Bedcount) \n",
    "VALUES\n",
    "(?, ?, ?)\n",
    ";''', hosp_data)"
   ]
  },
  {
   "cell_type": "code",
   "execution_count": 125,
   "metadata": {},
   "outputs": [
    {
     "data": {
      "text/html": [
       "<div>\n",
       "<style scoped>\n",
       "    .dataframe tbody tr th:only-of-type {\n",
       "        vertical-align: middle;\n",
       "    }\n",
       "\n",
       "    .dataframe tbody tr th {\n",
       "        vertical-align: top;\n",
       "    }\n",
       "\n",
       "    .dataframe thead th {\n",
       "        text-align: right;\n",
       "    }\n",
       "</style>\n",
       "<table border=\"1\" class=\"dataframe\">\n",
       "  <thead>\n",
       "    <tr style=\"text-align: right;\">\n",
       "      <th></th>\n",
       "      <th>ID</th>\n",
       "      <th>Name</th>\n",
       "      <th>BedCount</th>\n",
       "    </tr>\n",
       "  </thead>\n",
       "  <tbody>\n",
       "    <tr>\n",
       "      <th>0</th>\n",
       "      <td>1</td>\n",
       "      <td>Mayo Clinic</td>\n",
       "      <td>200</td>\n",
       "    </tr>\n",
       "    <tr>\n",
       "      <th>1</th>\n",
       "      <td>2</td>\n",
       "      <td>Cleveland Clinic</td>\n",
       "      <td>400</td>\n",
       "    </tr>\n",
       "    <tr>\n",
       "      <th>2</th>\n",
       "      <td>3</td>\n",
       "      <td>John Hopkins</td>\n",
       "      <td>1000</td>\n",
       "    </tr>\n",
       "    <tr>\n",
       "      <th>3</th>\n",
       "      <td>4</td>\n",
       "      <td>UCLA Medical Center</td>\n",
       "      <td>1500</td>\n",
       "    </tr>\n",
       "  </tbody>\n",
       "</table>\n",
       "</div>"
      ],
      "text/plain": [
       "   ID                 Name  BedCount\n",
       "0   1          Mayo Clinic       200\n",
       "1   2     Cleveland Clinic       400\n",
       "2   3         John Hopkins      1000\n",
       "3   4  UCLA Medical Center      1500"
      ]
     },
     "metadata": {},
     "output_type": "display_data"
    }
   ],
   "source": [
    "#Creating a dataframe from the SQL Hospital table\n",
    "cursor.execute('''SELECT * FROM Hospital;''')\n",
    "hospital_t = pd.DataFrame(cursor.fetchall())\n",
    "hospital_t.columns = [description[0] for description in cursor.description]\n",
    "display(hospital_t)"
   ]
  },
  {
   "cell_type": "code",
   "execution_count": 126,
   "metadata": {
    "scrolled": true
   },
   "outputs": [
    {
     "data": {
      "text/html": [
       "<div>\n",
       "<style scoped>\n",
       "    .dataframe tbody tr th:only-of-type {\n",
       "        vertical-align: middle;\n",
       "    }\n",
       "\n",
       "    .dataframe tbody tr th {\n",
       "        vertical-align: top;\n",
       "    }\n",
       "\n",
       "    .dataframe thead th {\n",
       "        text-align: right;\n",
       "    }\n",
       "</style>\n",
       "<table border=\"1\" class=\"dataframe\">\n",
       "  <thead>\n",
       "    <tr style=\"text-align: right;\">\n",
       "      <th></th>\n",
       "      <th>ID</th>\n",
       "      <th>Name</th>\n",
       "      <th>BedCount</th>\n",
       "      <th>DocID</th>\n",
       "      <th>DocName</th>\n",
       "      <th>HospitalID</th>\n",
       "      <th>JoiningDate</th>\n",
       "      <th>Specialty</th>\n",
       "      <th>Exp</th>\n",
       "      <th>salary</th>\n",
       "    </tr>\n",
       "  </thead>\n",
       "  <tbody>\n",
       "    <tr>\n",
       "      <th>0</th>\n",
       "      <td>1</td>\n",
       "      <td>Mayo Clinic</td>\n",
       "      <td>200</td>\n",
       "      <td>101</td>\n",
       "      <td>David</td>\n",
       "      <td>1</td>\n",
       "      <td>2005-02-10</td>\n",
       "      <td>Pediatric</td>\n",
       "      <td>None</td>\n",
       "      <td>40000.0</td>\n",
       "    </tr>\n",
       "    <tr>\n",
       "      <th>1</th>\n",
       "      <td>1</td>\n",
       "      <td>Mayo Clinic</td>\n",
       "      <td>200</td>\n",
       "      <td>102</td>\n",
       "      <td>Michael</td>\n",
       "      <td>1</td>\n",
       "      <td>2018-07-23</td>\n",
       "      <td>Oncologist</td>\n",
       "      <td>None</td>\n",
       "      <td>20000.0</td>\n",
       "    </tr>\n",
       "    <tr>\n",
       "      <th>2</th>\n",
       "      <td>2</td>\n",
       "      <td>Cleveland Clinic</td>\n",
       "      <td>400</td>\n",
       "      <td>103</td>\n",
       "      <td>Susan</td>\n",
       "      <td>2</td>\n",
       "      <td>2016-05-19</td>\n",
       "      <td>Garnacologist</td>\n",
       "      <td>None</td>\n",
       "      <td>25000.0</td>\n",
       "    </tr>\n",
       "    <tr>\n",
       "      <th>3</th>\n",
       "      <td>2</td>\n",
       "      <td>Cleveland Clinic</td>\n",
       "      <td>400</td>\n",
       "      <td>104</td>\n",
       "      <td>Robert</td>\n",
       "      <td>2</td>\n",
       "      <td>2017-12-28</td>\n",
       "      <td>Pediatric</td>\n",
       "      <td>None</td>\n",
       "      <td>28000.0</td>\n",
       "    </tr>\n",
       "    <tr>\n",
       "      <th>4</th>\n",
       "      <td>3</td>\n",
       "      <td>John Hopkins</td>\n",
       "      <td>1000</td>\n",
       "      <td>105</td>\n",
       "      <td>Linda</td>\n",
       "      <td>3</td>\n",
       "      <td>2004-06-04</td>\n",
       "      <td>Garnacologist</td>\n",
       "      <td>None</td>\n",
       "      <td>42000.0</td>\n",
       "    </tr>\n",
       "    <tr>\n",
       "      <th>5</th>\n",
       "      <td>3</td>\n",
       "      <td>John Hopkins</td>\n",
       "      <td>1000</td>\n",
       "      <td>106</td>\n",
       "      <td>William</td>\n",
       "      <td>3</td>\n",
       "      <td>2012-09-11</td>\n",
       "      <td>Dermatologist</td>\n",
       "      <td>None</td>\n",
       "      <td>30000.0</td>\n",
       "    </tr>\n",
       "    <tr>\n",
       "      <th>6</th>\n",
       "      <td>4</td>\n",
       "      <td>UCLA Medical Center</td>\n",
       "      <td>1500</td>\n",
       "      <td>107</td>\n",
       "      <td>Richard</td>\n",
       "      <td>4</td>\n",
       "      <td>2014-08-21</td>\n",
       "      <td>Garnacologist</td>\n",
       "      <td>None</td>\n",
       "      <td>32000.0</td>\n",
       "    </tr>\n",
       "    <tr>\n",
       "      <th>7</th>\n",
       "      <td>4</td>\n",
       "      <td>UCLA Medical Center</td>\n",
       "      <td>1500</td>\n",
       "      <td>108</td>\n",
       "      <td>Karen</td>\n",
       "      <td>4</td>\n",
       "      <td>2011-10-17</td>\n",
       "      <td>Radiologist</td>\n",
       "      <td>None</td>\n",
       "      <td>30000.0</td>\n",
       "    </tr>\n",
       "  </tbody>\n",
       "</table>\n",
       "</div>"
      ],
      "text/plain": [
       "   ID                 Name  BedCount  DocID  DocName  HospitalID JoiningDate  \\\n",
       "0   1          Mayo Clinic       200    101    David           1  2005-02-10   \n",
       "1   1          Mayo Clinic       200    102  Michael           1  2018-07-23   \n",
       "2   2     Cleveland Clinic       400    103    Susan           2  2016-05-19   \n",
       "3   2     Cleveland Clinic       400    104   Robert           2  2017-12-28   \n",
       "4   3         John Hopkins      1000    105    Linda           3  2004-06-04   \n",
       "5   3         John Hopkins      1000    106  William           3  2012-09-11   \n",
       "6   4  UCLA Medical Center      1500    107  Richard           4  2014-08-21   \n",
       "7   4  UCLA Medical Center      1500    108    Karen           4  2011-10-17   \n",
       "\n",
       "       Specialty   Exp   salary  \n",
       "0      Pediatric  None  40000.0  \n",
       "1     Oncologist  None  20000.0  \n",
       "2  Garnacologist  None  25000.0  \n",
       "3      Pediatric  None  28000.0  \n",
       "4  Garnacologist  None  42000.0  \n",
       "5  Dermatologist  None  30000.0  \n",
       "6  Garnacologist  None  32000.0  \n",
       "7    Radiologist  None  30000.0  "
      ]
     },
     "metadata": {},
     "output_type": "display_data"
    }
   ],
   "source": [
    "# Executing a join of both Hospital and Doctor tables\n",
    "cursor.execute(''' SELECT * FROM Hospital, Doctor\n",
    "WHERE Hospital.ID = Doctor.HospitalID\n",
    ";''')\n",
    "doc_hosp_join = pd.DataFrame(cursor.fetchall())\n",
    "doc_hosp_join.columns = [description[0] for description in cursor.description]\n",
    "display(doc_hosp_join)"
   ]
  },
  {
   "cell_type": "code",
   "execution_count": 127,
   "metadata": {},
   "outputs": [
    {
     "data": {
      "text/plain": [
       "[('Michael', 20000.0, 'Oncologist'),\n",
       " ('Susan', 25000.0, 'Garnacologist'),\n",
       " ('Robert', 28000.0, 'Pediatric'),\n",
       " ('William', 30000.0, 'Dermatologist'),\n",
       " ('Karen', 30000.0, 'Radiologist'),\n",
       " ('Richard', 32000.0, 'Garnacologist'),\n",
       " ('David', 40000.0, 'Pediatric'),\n",
       " ('Linda', 42000.0, 'Garnacologist')]"
      ]
     },
     "execution_count": 127,
     "metadata": {},
     "output_type": "execute_result"
    }
   ],
   "source": [
    "# Doctor names grouped by specialty and ordered by salary\n",
    "\n",
    "cursor.execute(''' SELECT DocName, salary, Specialty FROM Doctor\n",
    "GROUP BY Specialty, salary ORDER BY salary\n",
    ";''')\n",
    "\n",
    "cursor.fetchall()"
   ]
  },
  {
   "cell_type": "code",
   "execution_count": 128,
   "metadata": {},
   "outputs": [
    {
     "data": {
      "text/plain": [
       "[('Linda', 'John Hopkins'), ('William', 'John Hopkins')]"
      ]
     },
     "execution_count": 128,
     "metadata": {},
     "output_type": "execute_result"
    }
   ],
   "source": [
    "# Doctors by hospital\n",
    "cursor.execute(''' SELECT DocName, Name FROM Doctor, Hospital\n",
    "WHERE Hospital.ID = Doctor.HospitalID AND Name = 'John Hopkins'\n",
    ";''')\n",
    "\n",
    "cursor.fetchall()"
   ]
  },
  {
   "cell_type": "code",
   "execution_count": 185,
   "metadata": {},
   "outputs": [
    {
     "name": "stdout",
     "output_type": "stream",
     "text": [
      "[]\n"
     ]
    }
   ],
   "source": [
    "# Updating experience records for each row\n",
    "update_exp = [(10, 101),\n",
    "             (5, 102),\n",
    "             (11, 103),\n",
    "             (12, 104),\n",
    "             (15, 105),\n",
    "             (9, 106),\n",
    "             (11, 107),\n",
    "             (7, 108)]\n",
    "\n",
    "cursor.executemany(''' UPDATE Doctor SET Exp = ? WHERE DocID = ?;''', update_exp)\n",
    "sqliteconnect.commit()\n",
    "\n",
    "\n",
    "\n",
    "print(cursor.fetchall())"
   ]
  },
  {
   "cell_type": "code",
   "execution_count": 186,
   "metadata": {},
   "outputs": [
    {
     "data": {
      "text/plain": [
       "[(101, 'David', 1, '2005-02-10', 'Pediatric', '10', 40000.0),\n",
       " (102, 'Michael', 1, '2018-07-23', 'Oncologist', '5', 20000.0),\n",
       " (103, 'Susan', 2, '2016-05-19', 'Garnacologist', '11', 25000.0),\n",
       " (104, 'Robert', 2, '2017-12-28', 'Pediatric', '12', 28000.0),\n",
       " (105, 'Linda', 3, '2004-06-04', 'Garnacologist', '15', 42000.0),\n",
       " (106, 'William', 3, '2012-09-11', 'Dermatologist', '9', 30000.0),\n",
       " (107, 'Richard', 4, '2014-08-21', 'Garnacologist', '11', 32000.0),\n",
       " (108, 'Karen', 4, '2011-10-17', 'Radiologist', '7', 30000.0)]"
      ]
     },
     "execution_count": 186,
     "metadata": {},
     "output_type": "execute_result"
    }
   ],
   "source": [
    "cursor.execute('''SELECT * FROM Doctor;''')\n",
    "cursor.fetchall()"
   ]
  },
  {
   "cell_type": "code",
   "execution_count": 187,
   "metadata": {},
   "outputs": [],
   "source": [
    "sqliteconnect.close()"
   ]
  }
 ],
 "metadata": {
  "kernelspec": {
   "display_name": "Python 3 (ipykernel)",
   "language": "python",
   "name": "python3"
  },
  "language_info": {
   "codemirror_mode": {
    "name": "ipython",
    "version": 3
   },
   "file_extension": ".py",
   "mimetype": "text/x-python",
   "name": "python",
   "nbconvert_exporter": "python",
   "pygments_lexer": "ipython3",
   "version": "3.9.12"
  }
 },
 "nbformat": 4,
 "nbformat_minor": 4
}
